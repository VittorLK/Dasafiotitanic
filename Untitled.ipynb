{
 "cells": [
  {
   "cell_type": "code",
   "execution_count": 19,
   "id": "c6913fb7-5f8e-4b5e-83d2-22a0e04765c5",
   "metadata": {
    "scrolled": true
   },
   "outputs": [],
   "source": [
    "import pandas as pd\n",
    "import numpy as np\n",
    "train=pd.read_csv('train.csv')\n",
    "test=pd.read_csv('test.csv')\n",
    "train.head()\n",
    "from sklearn.ensemble import RandomForestClassifier\n",
    "from sklearn.model_selection import train_test_split\n",
    "x_falso=np.arange(10)\n",
    "x_falso\n",
    "modelo = RandomForestClassifier(n_estimators=100, n_jobs=-1, random_state=0)\n",
    "def transforma_sexo(valor):\n",
    "    if valor == 'female':\n",
    "        return 1\n",
    "    else:\n",
    "        return 0\n",
    "train['Sex_binario'] = train['Sex'].map(transforma_sexo)\n",
    "train.head()\n",
    "variaveis = ['Sex_binario', 'Age']\n",
    "X=train[variaveis]\n",
    "y=train['Survived']\n",
    "X.head()\n",
    "X= X.fillna(-1)\n",
    "modelo.fit(X, y)\n",
    "test['Sex_binario'] = test['Sex'].map(transforma_sexo)\n",
    "X_prev = test[variaveis]\n",
    "X_prev = X_prev.fillna(-1)\n",
    "X_prev.head()\n",
    "p = modelo.predict(X_prev)\n",
    "p\n",
    "test.head()\n",
    "sub = pd.Series(p, index=test['PassengerId'], name=\"Survived\")\n",
    "sub.shape\n",
    "sub.to_csv(\"primeiro_modelo.csv\", header= True)"
   ]
  }
 ],
 "metadata": {
  "kernelspec": {
   "display_name": "Python 3 (ipykernel)",
   "language": "python",
   "name": "python3"
  },
  "language_info": {
   "codemirror_mode": {
    "name": "ipython",
    "version": 3
   },
   "file_extension": ".py",
   "mimetype": "text/x-python",
   "name": "python",
   "nbconvert_exporter": "python",
   "pygments_lexer": "ipython3",
   "version": "3.11.7"
  }
 },
 "nbformat": 4,
 "nbformat_minor": 5
}
